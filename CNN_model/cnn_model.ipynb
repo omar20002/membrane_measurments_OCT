{
 "cells": [
  {
   "cell_type": "code",
   "execution_count": 1,
   "metadata": {
    "_cell_guid": "b1076dfc-b9ad-4769-8c92-a6c4dae69d19",
    "_uuid": "8f2839f25d086af736a60e9eeb907d3b93b6e0e5",
    "execution": {
     "iopub.execute_input": "2024-01-12T21:42:12.840129Z",
     "iopub.status.busy": "2024-01-12T21:42:12.839382Z",
     "iopub.status.idle": "2024-01-12T21:42:16.699064Z",
     "shell.execute_reply": "2024-01-12T21:42:16.698227Z",
     "shell.execute_reply.started": "2024-01-12T21:42:12.840097Z"
    }
   },
   "outputs": [
    {
     "name": "stderr",
     "output_type": "stream",
     "text": [
      "/opt/conda/lib/python3.10/site-packages/scipy/__init__.py:146: UserWarning: A NumPy version >=1.16.5 and <1.23.0 is required for this version of SciPy (detected version 1.24.3\n",
      "  warnings.warn(f\"A NumPy version >={np_minversion} and <{np_maxversion}\"\n"
     ]
    }
   ],
   "source": [
    "\n",
    "\n",
    "import numpy as np # linear algebra\n",
    "import pandas as pd # data processing, CSV file I/O (e.g. pd.read_csv)\n",
    "import pandas as pd\n",
    "import numpy as np\n",
    "import os\n",
    "import tensorflow as tf\n",
    "from tensorflow import keras\n",
    "import matplotlib.pyplot as plt\n",
    "from tensorflow.keras import layers, models\n",
    "import glob\n",
    "import cv2\n",
    "from sklearn.model_selection import train_test_split\n"
   ]
  },
  {
   "cell_type": "code",
   "execution_count": 2,
   "metadata": {
    "execution": {
     "iopub.execute_input": "2024-01-12T21:42:16.701170Z",
     "iopub.status.busy": "2024-01-12T21:42:16.700635Z",
     "iopub.status.idle": "2024-01-12T21:42:17.107363Z",
     "shell.execute_reply": "2024-01-12T21:42:17.106466Z",
     "shell.execute_reply.started": "2024-01-12T21:42:16.701142Z"
    }
   },
   "outputs": [],
   "source": [
    "x = np.load('/kaggle/input/pattern-data/data_processed.npy')\n",
    "y = np.load('/kaggle/input/pattern-data/labels.npy')\n",
    "\n",
    "\n",
    "def preprocess_images(img , lower = 22 , higher = 202 , blur = 5):\n",
    "    \n",
    "    denoised = cv2.fastNlMeansDenoising(img, h=10, templateWindowSize=7, searchWindowSize=21)\n",
    "\n",
    "    for _ in range(blur):\n",
    "        denoised = cv2.GaussianBlur(denoised,(5,5),0)\n",
    "\n",
    "    \n",
    "    lower = np.array([lower])\n",
    "    upper = np.array([higher])\n",
    "\n",
    "    mask = cv2.inRange(denoised, lower, upper)\n",
    "    denoised = cv2.bitwise_and(denoised, denoised, mask=mask)\n",
    "    target_size = (200,1440//2)\n",
    "    resized_image = cv2.resize(denoised, target_size)\n",
    "\n",
    "    return resized_image"
   ]
  },
  {
   "cell_type": "code",
   "execution_count": null,
   "metadata": {
    "execution": {
     "iopub.execute_input": "2024-01-12T20:59:27.404174Z",
     "iopub.status.busy": "2024-01-12T20:59:27.403892Z",
     "iopub.status.idle": "2024-01-12T21:05:44.601988Z",
     "shell.execute_reply": "2024-01-12T21:05:44.600999Z",
     "shell.execute_reply.started": "2024-01-12T20:59:27.404150Z"
    }
   },
   "outputs": [],
   "source": [
    "from tqdm import tqdm\n",
    "\n",
    "x_processed = []\n",
    "for img in tqdm(x):\n",
    "    img_p = preprocess_images(img)\n",
    "    x_processed.append(img_p)\n",
    "    \n",
    "    \n",
    "x_p = np.array(x_processed)"
   ]
  },
  {
   "cell_type": "code",
   "execution_count": 3,
   "metadata": {
    "execution": {
     "iopub.execute_input": "2024-01-12T21:42:17.108843Z",
     "iopub.status.busy": "2024-01-12T21:42:17.108553Z",
     "iopub.status.idle": "2024-01-12T21:42:17.489691Z",
     "shell.execute_reply": "2024-01-12T21:42:17.488305Z",
     "shell.execute_reply.started": "2024-01-12T21:42:17.108816Z"
    }
   },
   "outputs": [],
   "source": [
    "from sklearn.utils import shuffle\n",
    "import numpy as np\n",
    "\n",
    "\n",
    "X2, Y2 = shuffle(x_p, y, random_state=30)\n"
   ]
  },
  {
   "cell_type": "code",
   "execution_count": 4,
   "metadata": {
    "execution": {
     "iopub.execute_input": "2024-01-12T21:42:17.493643Z",
     "iopub.status.busy": "2024-01-12T21:42:17.492964Z",
     "iopub.status.idle": "2024-01-12T21:42:20.057798Z",
     "shell.execute_reply": "2024-01-12T21:42:20.056710Z",
     "shell.execute_reply.started": "2024-01-12T21:42:17.493606Z"
    }
   },
   "outputs": [],
   "source": [
    "for _ in range(7):\n",
    "    X2, Y2 = shuffle(X2, Y2, random_state=20)\n",
    "\n"
   ]
  },
  {
   "cell_type": "code",
   "execution_count": 5,
   "metadata": {
    "execution": {
     "iopub.execute_input": "2024-01-12T21:42:20.059591Z",
     "iopub.status.busy": "2024-01-12T21:42:20.059252Z",
     "iopub.status.idle": "2024-01-12T21:42:20.085639Z",
     "shell.execute_reply": "2024-01-12T21:42:20.084696Z",
     "shell.execute_reply.started": "2024-01-12T21:42:20.059563Z"
    }
   },
   "outputs": [],
   "source": [
    "labels = np.array([1 if i >= Y2.mean() else 0 for i in Y2])\n"
   ]
  },
  {
   "cell_type": "code",
   "execution_count": 7,
   "metadata": {
    "execution": {
     "iopub.execute_input": "2024-01-12T21:42:20.098261Z",
     "iopub.status.busy": "2024-01-12T21:42:20.097572Z",
     "iopub.status.idle": "2024-01-12T21:42:20.108653Z",
     "shell.execute_reply": "2024-01-12T21:42:20.107785Z",
     "shell.execute_reply.started": "2024-01-12T21:42:20.098223Z"
    }
   },
   "outputs": [
    {
     "data": {
      "text/plain": [
       "(1440, 400)"
      ]
     },
     "execution_count": 7,
     "metadata": {},
     "output_type": "execute_result"
    }
   ],
   "source": [
    "X2[0].shape"
   ]
  },
  {
   "cell_type": "code",
   "execution_count": 8,
   "metadata": {
    "execution": {
     "iopub.execute_input": "2024-01-12T21:42:20.110479Z",
     "iopub.status.busy": "2024-01-12T21:42:20.109980Z",
     "iopub.status.idle": "2024-01-12T21:42:20.474705Z",
     "shell.execute_reply": "2024-01-12T21:42:20.473554Z",
     "shell.execute_reply.started": "2024-01-12T21:42:20.110360Z"
    }
   },
   "outputs": [],
   "source": [
    "x_train , x_test , y_train , y_test = train_test_split(X2,labels,random_state = 77 , test_size = 0.2)"
   ]
  },
  {
   "cell_type": "code",
   "execution_count": 9,
   "metadata": {
    "execution": {
     "iopub.execute_input": "2024-01-12T21:42:24.282191Z",
     "iopub.status.busy": "2024-01-12T21:42:24.281821Z",
     "iopub.status.idle": "2024-01-12T21:44:28.810068Z",
     "shell.execute_reply": "2024-01-12T21:44:28.809202Z",
     "shell.execute_reply.started": "2024-01-12T21:42:24.282161Z"
    }
   },
   "outputs": [
    {
     "name": "stdout",
     "output_type": "stream",
     "text": [
      "Epoch 1/10\n",
      "24/24 [==============================] - 23s 616ms/step - loss: 0.6413 - val_loss: 0.2936\n",
      "Epoch 2/10\n",
      "24/24 [==============================] - 10s 430ms/step - loss: 0.3271 - val_loss: 0.1914\n",
      "Epoch 3/10\n",
      "24/24 [==============================] - 11s 443ms/step - loss: 0.1781 - val_loss: 0.1678\n",
      "Epoch 4/10\n",
      "24/24 [==============================] - 10s 426ms/step - loss: 0.1143 - val_loss: 0.1256\n",
      "Epoch 5/10\n",
      "24/24 [==============================] - 11s 440ms/step - loss: 0.0616 - val_loss: 0.1512\n",
      "Epoch 6/10\n",
      "24/24 [==============================] - 10s 422ms/step - loss: 0.0260 - val_loss: 0.1273\n",
      "Epoch 7/10\n",
      "24/24 [==============================] - 10s 423ms/step - loss: 0.0065 - val_loss: 0.1284\n",
      "Epoch 8/10\n",
      "24/24 [==============================] - 11s 442ms/step - loss: 0.0011 - val_loss: 0.1338\n",
      "Epoch 9/10\n",
      "24/24 [==============================] - 11s 454ms/step - loss: 8.8820e-04 - val_loss: 0.1370\n",
      "Epoch 10/10\n",
      "24/24 [==============================] - 11s 440ms/step - loss: 4.5803e-04 - val_loss: 0.1526\n"
     ]
    }
   ],
   "source": [
    "my_strategy = tf.distribute.MirroredStrategy()\n",
    "with my_strategy.scope():\n",
    "    model = models.Sequential()\n",
    "    model.add(layers.Conv2D(32, (3, 3), activation='relu', input_shape=(1440 , 400 , 1)))\n",
    "    model.add(layers.MaxPooling2D((2, 2)))\n",
    "    model.add(layers.Conv2D(64, (3, 3), activation='relu'))\n",
    "    model.add(layers.MaxPooling2D((2, 2)))\n",
    "\n",
    "    model.add(layers.Flatten())\n",
    "    model.add(layers.Dense(64, activation='relu'))\n",
    "\n",
    "    model.add(layers.Dense(32, activation='relu'))\n",
    "    model.add(layers.Dense(1 , activation = 'sigmoid')) \n",
    "\n",
    "    model.compile(optimizer='adam', loss=tf.keras.losses.BinaryCrossentropy()   ) \n",
    "\n",
    "    hist = model.fit(x_train, y_train, epochs=10, batch_size=32, validation_split=0.15)"
   ]
  },
  {
   "cell_type": "code",
   "execution_count": 23,
   "metadata": {
    "execution": {
     "iopub.execute_input": "2024-01-12T21:48:02.832643Z",
     "iopub.status.busy": "2024-01-12T21:48:02.831931Z",
     "iopub.status.idle": "2024-01-12T21:48:03.086583Z",
     "shell.execute_reply": "2024-01-12T21:48:03.085645Z",
     "shell.execute_reply.started": "2024-01-12T21:48:02.832612Z"
    }
   },
   "outputs": [
    {
     "data": {
      "text/plain": [
       "[<matplotlib.lines.Line2D at 0x7d22b896b700>]"
      ]
     },
     "execution_count": 23,
     "metadata": {},
     "output_type": "execute_result"
    },
    {
     "data": {
      "image/png": "[encoded data removed]",
      "text/plain": [
       "<Figure size 640x480 with 1 Axes>"
      ]
     },
     "metadata": {},
     "output_type": "display_data"
    }
   ],
   "source": [
    "plt.plot(hist.history['loss'])"
   ]
  },
  {
   "cell_type": "code",
   "execution_count": 24,
   "metadata": {
    "execution": {
     "iopub.execute_input": "2024-01-12T21:48:12.859235Z",
     "iopub.status.busy": "2024-01-12T21:48:12.858842Z",
     "iopub.status.idle": "2024-01-12T21:48:13.127062Z",
     "shell.execute_reply": "2024-01-12T21:48:13.126126Z",
     "shell.execute_reply.started": "2024-01-12T21:48:12.859185Z"
    }
   },
   "outputs": [
    {
     "data": {
      "text/plain": [
       "[<matplotlib.lines.Line2D at 0x7d22b89a3f40>]"
      ]
     },
     "execution_count": 24,
     "metadata": {},
     "output_type": "execute_result"
    },
    {
     "data": {
      "image/png": "[encoded data removed]",
      "text/plain": [
       "<Figure size 640x480 with 1 Axes>"
      ]
     },
     "metadata": {},
     "output_type": "display_data"
    }
   ],
   "source": [
    "plt.plot(hist.history['val_loss'])"
   ]
  },
  {
   "cell_type": "code",
   "execution_count": 35,
   "metadata": {
    "execution": {
     "iopub.execute_input": "2024-01-12T21:52:51.739898Z",
     "iopub.status.busy": "2024-01-12T21:52:51.739195Z",
     "iopub.status.idle": "2024-01-12T21:52:55.189014Z",
     "shell.execute_reply": "2024-01-12T21:52:55.188198Z",
     "shell.execute_reply.started": "2024-01-12T21:52:51.739864Z"
    }
   },
   "outputs": [
    {
     "name": "stdout",
     "output_type": "stream",
     "text": [
      "7/7 [==============================] - 1s 98ms/step\n"
     ]
    }
   ],
   "source": [
    "preds = model.predict(x_test)\n",
    "t = 0.50\n",
    "preds_b = [1 if i >= t else 0 for i in preds]\n",
    "\n",
    "from sklearn.metrics import accuracy_score\n",
    "score = accuracy_score(y_test , preds_b)"
   ]
  },
  {
   "cell_type": "code",
   "execution_count": 36,
   "metadata": {
    "execution": {
     "iopub.execute_input": "2024-01-12T21:52:55.490494Z",
     "iopub.status.busy": "2024-01-12T21:52:55.489810Z",
     "iopub.status.idle": "2024-01-12T21:52:55.498045Z",
     "shell.execute_reply": "2024-01-12T21:52:55.497118Z",
     "shell.execute_reply.started": "2024-01-12T21:52:55.490464Z"
    }
   },
   "outputs": [
    {
     "data": {
      "text/plain": [
       "0.9641255605381166"
      ]
     },
     "execution_count": 36,
     "metadata": {},
     "output_type": "execute_result"
    }
   ],
   "source": [
    "score"
   ]
  }
 ],
 "metadata": {
  "kaggle": {
   "accelerator": "nvidiaTeslaT4",
   "dataSources": [
    {
     "datasetId": 4256825,
     "sourceId": 7333249,
     "sourceType": "datasetVersion"
    },
    {
     "datasetId": 4258837,
     "sourceId": 7336003,
     "sourceType": "datasetVersion"
    },
    {
     "datasetId": 4289890,
     "sourceId": 7381625,
     "sourceType": "datasetVersion"
    }
   ],
   "dockerImageVersionId": 30627,
   "isGpuEnabled": true,
   "isInternetEnabled": true,
   "language": "python",
   "sourceType": "notebook"
  },
  "kernelspec": {
   "display_name": "Python 3 (ipykernel)",
   "language": "python",
   "name": "python3"
  },
  "language_info": {
   "codemirror_mode": {
    "name": "ipython",
    "version": 3
   },
   "file_extension": ".py",
   "mimetype": "text/x-python",
   "name": "python",
   "nbconvert_exporter": "python",
   "pygments_lexer": "ipython3",
   "version": "3.11.5"
  }
 },
 "nbformat": 4,
 "nbformat_minor": 4
}
